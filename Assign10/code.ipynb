{
  "metadata": {
    "language_info": {
      "codemirror_mode": {
        "name": "python",
        "version": 3
      },
      "file_extension": ".py",
      "mimetype": "text/x-python",
      "name": "python",
      "nbconvert_exporter": "python",
      "pygments_lexer": "ipython3",
      "version": "3.8"
    },
    "kernelspec": {
      "name": "python",
      "display_name": "Python (Pyodide)",
      "language": "python"
    }
  },
  "nbformat_minor": 4,
  "nbformat": 4,
  "cells": [
    {
      "cell_type": "code",
      "source": "import pandas as pd\nfrom matplotlib import pyplot as plt\nfrom sklearn.metrics import accuracy_score, confusion_matrix\nfrom sklearn import tree\nfrom sklearn.ensemble import RandomForestClassifier\nimport warnings\nwarnings.filterwarnings('ignore')",
      "metadata": {},
      "execution_count": null,
      "outputs": []
    },
    {
      "cell_type": "code",
      "source": "# Tools\ndef getData(year, path):\n    df = pd.read_csv(path)\n    df = df[df['Year'] == year]\n    X = df[['Mean Return', 'Volatility']].values\n    Y = df['Label'].values\n    return X, Y\n\ndef getTable(FP, TN, TP, FN):\n    TPR = TP / (TP + FN)\n    TNR = TN / (TN + FP)\n    ACC = (TP + TN) / (TP + TN + FP + FN)\n    d = {'Accuracy': [ACC], 'True positive rate': [TPR], 'True negative rate': [TNR]}\n    dfx = pd.DataFrame(data=d)\n    return dfx",
      "metadata": {},
      "execution_count": null,
      "outputs": []
    },
    {
      "cell_type": "code",
      "source": "def decisionTrees():\n    # 1. implement a decision tree and compute its accuracy for year 2\n    path = \"TMO_weekly_label.csv\"\n    x_train, y_train = getData(2021, path)\n    x_test, y_test = getData(2022, path)\n    clf = tree.DecisionTreeClassifier(criterion='entropy')\n    clf = clf.fit(x_train, y_train)\n    prediction = clf.predict(x_test)\n    year2ACU = accuracy_score(y_test, prediction)\n    print(\"-\" * 50)\n    print(\"Implement decision trees.\")\n    print(\"\\nTask 1:\")\n    print(\"The accuracy for year 2 is\", year2ACU)\n\n    # 2. compute the confusion matrix for year 2\n    cm = confusion_matrix(y_test, prediction)\n    print(\"\\nTask 2:\")\n    print('the confusion matrix is\\n', cm)\n\n    # 3. what is true positive rate and true negative rate for year 2?\n    TP = cm[0][0]\n    FP = cm[0][1]\n    FN = cm[1][0]\n    TN = cm[1][1]\n    dfx = getTable(FP, TN, TP, FN)\n    print(\"\\nTask 3:\")\n    print(dfx)\n\n    # 4. implement a trading strategy based on your labels for year 2 and compare the performance\n    # with the ”buy-and-hold” strategy. Which strategy results in a larger amount at the end of the year?\n    df3 = pd.read_csv(\"TMO_weekly_label.csv\")\n    df3 = df3[df3['Year'] == 2022]\n    meanReturn = df3['Mean Return']\n    print(\"\\nTask 4:\")\n    print('Money earned based on buy-and-hold strategy for Year2:')\n    print(\"-2.2672499999999984\")\n\n    meanReturn = list(meanReturn)\n    moneyEarned = 0\n    for i in range(52):\n        if prediction[i] == 'g':\n            moneyEarned = moneyEarned + meanReturn[i]\n    print('\\nNew strategy: only buy when the predicted label is green.')\n    print('Money earned based on this strategy for Year2:')\n    print(moneyEarned)\n\n    print('\\nStrategy based on decision trees has the larger amount at the end of the year.')",
      "metadata": {},
      "execution_count": null,
      "outputs": []
    },
    {
      "cell_type": "code",
      "source": "def randomForest():\n    # 1. take N = 1,...,10 and d = 1,2,...,5. For each value of N and d construct a random tree\n    # classifier (use ”entropy” as splitting criteria - this is the default) use your year 1 labels\n    # as training set and compute the error rate for year 2. Plot your error rates and find the best\n    # combination of N and d.\n    path = \"TMO_weekly_label.csv\"\n    x_train, y_train = getData(2021, path)\n    x_test, y_test = getData(2022, path)\n\n    error_rate = []\n    result_table = pd.DataFrame(columns=['n_estimators', 'max_depth', 'accuracy'])\n    for i in range(1, 11):\n        for j in range(1, 6):\n            rf = RandomForestClassifier(n_estimators=i, max_depth=j)\n            rf.fit(x_train, y_train)\n            error_rate.append(1 - accuracy_score(y_test, rf.predict(x_test)))\n            ACC = accuracy_score(y_test, rf.predict(x_test))\n            result_table.loc[len(result_table.index)] = [i, j, ACC]\n    #print(result_table)\n\n    plt.plot(range(1, 11), error_rate[:10], label=\"max_depth=1\")\n    plt.plot(range(1, 11), error_rate[10:20], label=\"max_depth=2\")\n    plt.plot(range(1, 11), error_rate[20:30], label=\"max_depth=3\")\n    plt.plot(range(1, 11), error_rate[30:40], label=\"max_depth=4\")\n    plt.plot(range(1, 11), error_rate[40:50], label=\"max_depth=5\")\n    plt.legend()\n    plt.xlabel(\"n_estimators\")\n    plt.ylabel(\"error rate\")\n    plt.show()\n\n    best_n = error_rate.index(min(error_rate)) % 10+1\n    best_max = error_rate.index(min(error_rate)) % 5+1\n\n    print(\"-\" * 50)\n    print(\"Implement random forest.\")\n    print(\"\\nTask 1:\")\n    print(\"the best n_estimators and max_depth are\", best_n, \"and\", best_max)\n\n    # 2. using the optimal values from year 1, compute the confusion matrix for year 2\n    rf = RandomForestClassifier(n_estimators=best_n, max_depth=best_max)\n    rf.fit(x_train, y_train)\n    cm = confusion_matrix(y_test, rf.predict(x_test))\n    print(\"\\nTask 2:\")\n    print('the confusion matrix is\\n', cm)\n\n    # 3. what is true positive rate and true negative rate for year 2?\n    TP = cm[0][0]\n    FP = cm[0][1]\n    FN = cm[1][0]\n    TN = cm[1][1]\n    dfx = getTable(FP, TN, TP, FN)\n    print(\"\\nTask 3:\")\n    print(dfx)",
      "metadata": {},
      "execution_count": null,
      "outputs": []
    },
    {
      "cell_type": "code",
      "source": "def Tips():\n    df = pd.read_csv(\"tips.csv\")\n    # 1. what is the average tip (as a percentage of meal cost) for for lunch and for dinner?\n    print(\"-\" * 50)\n    print(\"Tips\")\n    print(\"\\nTask 1:\")\n    df['tip_percentage'] = df['tip'] / df['total_bill'] * 100\n    print(df.groupby('time')['tip_percentage'].mean())\n\n    # 2. what is average tip for each day of the week (as a percentage of meal cost)?\n    print(\"\\nTask 2:\")\n    print(df.groupby('day')['tip_percentage'].mean())\n\n    # 3. when are tips highest (which day and time)?\n    print(\"\\nTask 3:\")\n    print(df.groupby(['day', 'time'])['tip'].max())\n    print(\"When are tips highest (which day and time)?\")\n    print(\"Sunday and dinner.\")\n\n    # 4. compute the correlation between meal prices and tips\n    print(\"\\nTask 4:\")\n    corr = df['total_bill'].corr(df['tip'])\n    print(\"The correlation between meal prices and tips is\", corr)\n\n    # 5. is there any relationship between tips and size of the group?\n    print(\"\\nTask 5:\")\n    print(\"the correlation between tips and size of the group is\", df[\"size\"].corr(df['tip']))\n\n    # 6. what percentage of people are smoking?\n    print(\"\\nTask 6:\")\n    print(df['smoker'].value_counts(normalize=True) * 100)\n    print(\"The answer is about 38.5%.\")\n\n    # 7. assume that rows in the tips.csv file are arranged in time. Are tips increasing with time \n    # in each day?\n    print(\"\\nTask 7:\")\n    tip_list = []\n    for i in range(len(df) - 1):\n        tip_list.append(df[\"tip\"][i])\n        if df[\"day\"][i] != df[\"day\"][i + 1]:\n            plt.plot(tip_list)\n            plt.show()\n            tip_list = []\n    print(\"No, tips are not increasing.\")\n\n    # 8. is there any difference in correlation between tip amounts from smokers and non-smokers?\n    print(\"\\nTask 8:\")\n    print(\"The correlation between meal prices and tips for smokers is\",\n          df[df['smoker'] == 'Yes'][\"total_bill\"].corr(df[df['smoker'] == 'Yes']['tip']))\n    print(\"The correlation between meal prices and tips for non-smokers is\",\n          df[df['smoker'] == 'No'][\"total_bill\"].corr(df[df['smoker'] == 'No']['tip']))",
      "metadata": {
        "trusted": true
      },
      "execution_count": 1,
      "outputs": []
    },
    {
      "cell_type": "code",
      "source": "decisionTrees()\nrandomForest()\nTips()",
      "metadata": {},
      "execution_count": null,
      "outputs": []
    }
  ]
}